{
 "cells": [
  {
   "cell_type": "code",
   "execution_count": 91,
   "id": "4fcf439a",
   "metadata": {},
   "outputs": [
    {
     "data": {
      "text/html": [
       "<div>\n",
       "<style scoped>\n",
       "    .dataframe tbody tr th:only-of-type {\n",
       "        vertical-align: middle;\n",
       "    }\n",
       "\n",
       "    .dataframe tbody tr th {\n",
       "        vertical-align: top;\n",
       "    }\n",
       "\n",
       "    .dataframe thead th {\n",
       "        text-align: right;\n",
       "    }\n",
       "</style>\n",
       "<table border=\"1\" class=\"dataframe\">\n",
       "  <thead>\n",
       "    <tr style=\"text-align: right;\">\n",
       "      <th></th>\n",
       "      <th>class</th>\n",
       "      <th>tweet</th>\n",
       "    </tr>\n",
       "  </thead>\n",
       "  <tbody>\n",
       "    <tr>\n",
       "      <th>0</th>\n",
       "      <td>1</td>\n",
       "      <td>[9-1-13] 2:50 pm \"son of a bitch ate my mac n ...</td>\n",
       "    </tr>\n",
       "    <tr>\n",
       "      <th>1</th>\n",
       "      <td>1</td>\n",
       "      <td>RT @BryceSerna: Don't be a pussy grab the boot...</td>\n",
       "    </tr>\n",
       "    <tr>\n",
       "      <th>2</th>\n",
       "      <td>2</td>\n",
       "      <td>RT @ClicquotSuave: bunch of rappers boutta flo...</td>\n",
       "    </tr>\n",
       "    <tr>\n",
       "      <th>3</th>\n",
       "      <td>2</td>\n",
       "      <td>@michigannews13 wow. Thats great language comi...</td>\n",
       "    </tr>\n",
       "    <tr>\n",
       "      <th>4</th>\n",
       "      <td>1</td>\n",
       "      <td>and this is why I'm single, I don't fuck with ...</td>\n",
       "    </tr>\n",
       "    <tr>\n",
       "      <th>...</th>\n",
       "      <td>...</td>\n",
       "      <td>...</td>\n",
       "    </tr>\n",
       "    <tr>\n",
       "      <th>14864</th>\n",
       "      <td>1</td>\n",
       "      <td>RT @Estellleeee: Lol bitches act hard when the...</td>\n",
       "    </tr>\n",
       "    <tr>\n",
       "      <th>14865</th>\n",
       "      <td>1</td>\n",
       "      <td>RT @yes_paul: I bitch about unnecessary things...</td>\n",
       "    </tr>\n",
       "    <tr>\n",
       "      <th>14866</th>\n",
       "      <td>1</td>\n",
       "      <td>RT @Im_Amy_Bitches: I'm not always a bitch, so...</td>\n",
       "    </tr>\n",
       "    <tr>\n",
       "      <th>14867</th>\n",
       "      <td>1</td>\n",
       "      <td>RT @dkiswinning: GamePlan: 1. Eat the pussy 2....</td>\n",
       "    </tr>\n",
       "    <tr>\n",
       "      <th>14868</th>\n",
       "      <td>1</td>\n",
       "      <td>RT @FeeelGreatness: You don't know where your ...</td>\n",
       "    </tr>\n",
       "  </tbody>\n",
       "</table>\n",
       "<p>14869 rows × 2 columns</p>\n",
       "</div>"
      ],
      "text/plain": [
       "       class                                              tweet\n",
       "0          1  [9-1-13] 2:50 pm \"son of a bitch ate my mac n ...\n",
       "1          1  RT @BryceSerna: Don't be a pussy grab the boot...\n",
       "2          2  RT @ClicquotSuave: bunch of rappers boutta flo...\n",
       "3          2  @michigannews13 wow. Thats great language comi...\n",
       "4          1  and this is why I'm single, I don't fuck with ...\n",
       "...      ...                                                ...\n",
       "14864      1  RT @Estellleeee: Lol bitches act hard when the...\n",
       "14865      1  RT @yes_paul: I bitch about unnecessary things...\n",
       "14866      1  RT @Im_Amy_Bitches: I'm not always a bitch, so...\n",
       "14867      1  RT @dkiswinning: GamePlan: 1. Eat the pussy 2....\n",
       "14868      1  RT @FeeelGreatness: You don't know where your ...\n",
       "\n",
       "[14869 rows x 2 columns]"
      ]
     },
     "execution_count": 91,
     "metadata": {},
     "output_type": "execute_result"
    }
   ],
   "source": [
    "import pandas as pd \n",
    "import numpy as np \n",
    "\n",
    "#匯入資料\n",
    "dt = pd.read_csv('train.csv')\n",
    "testdata = pd.read_csv('test.csv')\n",
    "#先合併 方便後面一起處理文字\n",
    "add = dt.append(testdata, ignore_index=True)\n",
    "\n",
    "dt"
   ]
  },
  {
   "cell_type": "markdown",
   "id": "12fd5d0f",
   "metadata": {},
   "source": [
    "### 文字處理\n"
   ]
  },
  {
   "cell_type": "code",
   "execution_count": 92,
   "id": "27c215db",
   "metadata": {},
   "outputs": [
    {
     "data": {
      "text/plain": [
       "0        [9-1-13] 2:50 pm \"son of a bitch ate my mac n ...\n",
       "1        RT : Don't be a pussy grab the booty. Love the...\n",
       "2        RT : bunch of rappers boutta flood the interne...\n",
       "3         wow. Thats great language coming from a HS co...\n",
       "4        and this is why I'm single, I don't fuck with ...\n",
       "                               ...                        \n",
       "24778                                   you're all niggers\n",
       "24779    you's a muthaf***in lie &#8220;:   right! His ...\n",
       "24780    young buck wanna eat!!.. dat nigguh like I ain...\n",
       "24781                youu got wild bitches tellin you lies\n",
       "24782    ~~Ruffled | Ntac Eileen Dahlia - Beautiful col...\n",
       "Name: tweet, Length: 24783, dtype: object"
      ]
     },
     "execution_count": 92,
     "metadata": {},
     "output_type": "execute_result"
    }
   ],
   "source": [
    "import nltk\n",
    "import re \n",
    "import string\n",
    "\n",
    "#建立移除文字的函式\n",
    "def remove_pattern(t, pattern):\n",
    "    r = re.findall(pattern, t) #找出符合的pattern\n",
    "    for i in r:\n",
    "        t = re.sub(i, '', t) #移除符合樣式的字\n",
    "        \n",
    "    return t\n",
    " \n",
    "# 移除用戶id (@開頭)\n",
    "add['tweet'] = np.vectorize(remove_pattern)(add['tweet'], \"@[\\w]*\")\n",
    "\n",
    "\n",
    "add['tweet'] #成功移除用戶id"
   ]
  },
  {
   "cell_type": "code",
   "execution_count": 93,
   "id": "58bca6be",
   "metadata": {},
   "outputs": [
    {
     "name": "stderr",
     "output_type": "stream",
     "text": [
      "C:\\Users\\gina1\\AppData\\Local\\Temp/ipykernel_36140/1040058820.py:4: FutureWarning: The default value of regex will change from True to False in a future version.\n",
      "  add['tweet'] = add['tweet'].str.replace(\"((http://)[^ ]*|(https://)[^ ]*|( www\\.)[^ ]*)\",\"\")\n",
      "C:\\Users\\gina1\\AppData\\Local\\Temp/ipykernel_36140/1040058820.py:6: FutureWarning: The default value of regex will change from True to False in a future version.\n",
      "  add['tweet'] = add['tweet'].str.replace('[0-9]+', \"\")\n",
      "C:\\Users\\gina1\\AppData\\Local\\Temp/ipykernel_36140/1040058820.py:8: FutureWarning: The default value of regex will change from True to False in a future version.\n",
      "  add['tweet'] = add['tweet'].str.replace(\"[^a-zA-Z#]\", \" \")\n"
     ]
    },
    {
     "data": {
      "text/plain": [
       "0                 pm  son of a bitch ate my mac n cheese  \n",
       "1        RT   Don t be a pussy grab the booty  Love the...\n",
       "2        RT   bunch of rappers boutta flood the interne...\n",
       "3         wow  Thats great language coming from a HS co...\n",
       "4        and this is why I m single  I don t fuck with ...\n",
       "                               ...                        \n",
       "24778                                   you re all niggers\n",
       "24779    you s a muthaf   in lie  #     right  His TL i...\n",
       "24780    young buck wanna eat     dat nigguh like I ain...\n",
       "24781                youu got wild bitches tellin you lies\n",
       "24782      Ruffled   Ntac Eileen Dahlia   Beautiful col...\n",
       "Name: tweet, Length: 24783, dtype: object"
      ]
     },
     "execution_count": 93,
     "metadata": {},
     "output_type": "execute_result"
    }
   ],
   "source": [
    "#接著陸續移除不需要的文字\n",
    "\n",
    "#1. 移除url\n",
    "add['tweet'] = add['tweet'].str.replace(\"((http://)[^ ]*|(https://)[^ ]*|( www\\.)[^ ]*)\",\"\") \n",
    "#2. 移除數字\n",
    "add['tweet'] = add['tweet'].str.replace('[0-9]+', \"\")\n",
    "#3. 移除非英文 \n",
    "add['tweet'] = add['tweet'].str.replace(\"[^a-zA-Z#]\", \" \") \n",
    " \n",
    "add['tweet']"
   ]
  },
  {
   "cell_type": "code",
   "execution_count": 96,
   "id": "7845c122",
   "metadata": {
    "scrolled": true
   },
   "outputs": [
    {
     "data": {
      "text/html": [
       "<div>\n",
       "<style scoped>\n",
       "    .dataframe tbody tr th:only-of-type {\n",
       "        vertical-align: middle;\n",
       "    }\n",
       "\n",
       "    .dataframe tbody tr th {\n",
       "        vertical-align: top;\n",
       "    }\n",
       "\n",
       "    .dataframe thead th {\n",
       "        text-align: right;\n",
       "    }\n",
       "</style>\n",
       "<table border=\"1\" class=\"dataframe\">\n",
       "  <thead>\n",
       "    <tr style=\"text-align: right;\">\n",
       "      <th></th>\n",
       "      <th>class</th>\n",
       "      <th>tweet</th>\n",
       "      <th>id</th>\n",
       "    </tr>\n",
       "  </thead>\n",
       "  <tbody>\n",
       "    <tr>\n",
       "      <th>0</th>\n",
       "      <td>1.0</td>\n",
       "      <td>son bitch ate mac cheese</td>\n",
       "      <td>NaN</td>\n",
       "    </tr>\n",
       "    <tr>\n",
       "      <th>1</th>\n",
       "      <td>1.0</td>\n",
       "      <td>don pussy grab the booty love the booty apprec...</td>\n",
       "      <td>NaN</td>\n",
       "    </tr>\n",
       "    <tr>\n",
       "      <th>2</th>\n",
       "      <td>2.0</td>\n",
       "      <td>bunch rappers boutta flood the internets trash...</td>\n",
       "      <td>NaN</td>\n",
       "    </tr>\n",
       "    <tr>\n",
       "      <th>3</th>\n",
       "      <td>2.0</td>\n",
       "      <td>wow thats great language coming from coach you...</td>\n",
       "      <td>NaN</td>\n",
       "    </tr>\n",
       "    <tr>\n",
       "      <th>4</th>\n",
       "      <td>1.0</td>\n",
       "      <td>and this why single don fuck with bitches ther...</td>\n",
       "      <td>NaN</td>\n",
       "    </tr>\n",
       "    <tr>\n",
       "      <th>...</th>\n",
       "      <td>...</td>\n",
       "      <td>...</td>\n",
       "      <td>...</td>\n",
       "    </tr>\n",
       "    <tr>\n",
       "      <th>24778</th>\n",
       "      <td>NaN</td>\n",
       "      <td>you all niggers</td>\n",
       "      <td>9909.0</td>\n",
       "    </tr>\n",
       "    <tr>\n",
       "      <th>24779</th>\n",
       "      <td>NaN</td>\n",
       "      <td>you muthaf lie right his trash now mine bible ...</td>\n",
       "      <td>9910.0</td>\n",
       "    </tr>\n",
       "    <tr>\n",
       "      <th>24780</th>\n",
       "      <td>NaN</td>\n",
       "      <td>young buck wanna eat dat nigguh like aint fuck...</td>\n",
       "      <td>9911.0</td>\n",
       "    </tr>\n",
       "    <tr>\n",
       "      <th>24781</th>\n",
       "      <td>NaN</td>\n",
       "      <td>youu got wild bitches tellin you lies</td>\n",
       "      <td>9912.0</td>\n",
       "    </tr>\n",
       "    <tr>\n",
       "      <th>24782</th>\n",
       "      <td>NaN</td>\n",
       "      <td>ruffled ntac eileen dahlia beautiful color com...</td>\n",
       "      <td>9913.0</td>\n",
       "    </tr>\n",
       "  </tbody>\n",
       "</table>\n",
       "<p>24783 rows × 3 columns</p>\n",
       "</div>"
      ],
      "text/plain": [
       "       class                                              tweet      id\n",
       "0        1.0                           son bitch ate mac cheese     NaN\n",
       "1        1.0  don pussy grab the booty love the booty apprec...     NaN\n",
       "2        2.0  bunch rappers boutta flood the internets trash...     NaN\n",
       "3        2.0  wow thats great language coming from coach you...     NaN\n",
       "4        1.0  and this why single don fuck with bitches ther...     NaN\n",
       "...      ...                                                ...     ...\n",
       "24778    NaN                                    you all niggers  9909.0\n",
       "24779    NaN  you muthaf lie right his trash now mine bible ...  9910.0\n",
       "24780    NaN  young buck wanna eat dat nigguh like aint fuck...  9911.0\n",
       "24781    NaN              youu got wild bitches tellin you lies  9912.0\n",
       "24782    NaN  ruffled ntac eileen dahlia beautiful color com...  9913.0\n",
       "\n",
       "[24783 rows x 3 columns]"
      ]
     },
     "execution_count": 96,
     "metadata": {},
     "output_type": "execute_result"
    }
   ],
   "source": [
    "#把長度小於3的字刪掉\n",
    "add['tweet'] = add['tweet'].apply(lambda x: ' '.join([l for l in x.split() if len(l)>2]))   \n",
    "\n",
    "add"
   ]
  },
  {
   "cell_type": "code",
   "execution_count": 97,
   "id": "a6f7d407",
   "metadata": {},
   "outputs": [],
   "source": [
    "#轉成小寫\n",
    "def lower(T):\n",
    "    t=[]\n",
    "    for text in T:\n",
    "        text=text.lower()\n",
    "        t.append(text)\n",
    "    return t\n",
    "add['tweet'] =lower(add['tweet'] )"
   ]
  },
  {
   "cell_type": "code",
   "execution_count": 98,
   "id": "b55987db",
   "metadata": {},
   "outputs": [
    {
     "data": {
      "text/html": [
       "<div>\n",
       "<style scoped>\n",
       "    .dataframe tbody tr th:only-of-type {\n",
       "        vertical-align: middle;\n",
       "    }\n",
       "\n",
       "    .dataframe tbody tr th {\n",
       "        vertical-align: top;\n",
       "    }\n",
       "\n",
       "    .dataframe thead th {\n",
       "        text-align: right;\n",
       "    }\n",
       "</style>\n",
       "<table border=\"1\" class=\"dataframe\">\n",
       "  <thead>\n",
       "    <tr style=\"text-align: right;\">\n",
       "      <th></th>\n",
       "      <th>class</th>\n",
       "      <th>tweet</th>\n",
       "      <th>id</th>\n",
       "    </tr>\n",
       "  </thead>\n",
       "  <tbody>\n",
       "    <tr>\n",
       "      <th>0</th>\n",
       "      <td>1.0</td>\n",
       "      <td>son bitch ate mac cheese</td>\n",
       "      <td>NaN</td>\n",
       "    </tr>\n",
       "    <tr>\n",
       "      <th>1</th>\n",
       "      <td>1.0</td>\n",
       "      <td>don pussy grab the booty love the booty apprec...</td>\n",
       "      <td>NaN</td>\n",
       "    </tr>\n",
       "    <tr>\n",
       "      <th>2</th>\n",
       "      <td>2.0</td>\n",
       "      <td>bunch rappers boutta flood the internets trash...</td>\n",
       "      <td>NaN</td>\n",
       "    </tr>\n",
       "    <tr>\n",
       "      <th>3</th>\n",
       "      <td>2.0</td>\n",
       "      <td>wow thats great language coming from coach you...</td>\n",
       "      <td>NaN</td>\n",
       "    </tr>\n",
       "    <tr>\n",
       "      <th>4</th>\n",
       "      <td>1.0</td>\n",
       "      <td>and this why single don fuck with bitches ther...</td>\n",
       "      <td>NaN</td>\n",
       "    </tr>\n",
       "    <tr>\n",
       "      <th>...</th>\n",
       "      <td>...</td>\n",
       "      <td>...</td>\n",
       "      <td>...</td>\n",
       "    </tr>\n",
       "    <tr>\n",
       "      <th>24778</th>\n",
       "      <td>NaN</td>\n",
       "      <td>you all niggers</td>\n",
       "      <td>9909.0</td>\n",
       "    </tr>\n",
       "    <tr>\n",
       "      <th>24779</th>\n",
       "      <td>NaN</td>\n",
       "      <td>you muthaf lie right his trash now mine bible ...</td>\n",
       "      <td>9910.0</td>\n",
       "    </tr>\n",
       "    <tr>\n",
       "      <th>24780</th>\n",
       "      <td>NaN</td>\n",
       "      <td>young buck wanna eat dat nigguh like aint fuck...</td>\n",
       "      <td>9911.0</td>\n",
       "    </tr>\n",
       "    <tr>\n",
       "      <th>24781</th>\n",
       "      <td>NaN</td>\n",
       "      <td>youu got wild bitches tellin you lies</td>\n",
       "      <td>9912.0</td>\n",
       "    </tr>\n",
       "    <tr>\n",
       "      <th>24782</th>\n",
       "      <td>NaN</td>\n",
       "      <td>ruffled ntac eileen dahlia beautiful color com...</td>\n",
       "      <td>9913.0</td>\n",
       "    </tr>\n",
       "  </tbody>\n",
       "</table>\n",
       "<p>24783 rows × 3 columns</p>\n",
       "</div>"
      ],
      "text/plain": [
       "       class                                              tweet      id\n",
       "0        1.0                           son bitch ate mac cheese     NaN\n",
       "1        1.0  don pussy grab the booty love the booty apprec...     NaN\n",
       "2        2.0  bunch rappers boutta flood the internets trash...     NaN\n",
       "3        2.0  wow thats great language coming from coach you...     NaN\n",
       "4        1.0  and this why single don fuck with bitches ther...     NaN\n",
       "...      ...                                                ...     ...\n",
       "24778    NaN                                    you all niggers  9909.0\n",
       "24779    NaN  you muthaf lie right his trash now mine bible ...  9910.0\n",
       "24780    NaN  young buck wanna eat dat nigguh like aint fuck...  9911.0\n",
       "24781    NaN              youu got wild bitches tellin you lies  9912.0\n",
       "24782    NaN  ruffled ntac eileen dahlia beautiful color com...  9913.0\n",
       "\n",
       "[24783 rows x 3 columns]"
      ]
     },
     "execution_count": 98,
     "metadata": {},
     "output_type": "execute_result"
    }
   ],
   "source": [
    "add"
   ]
  },
  {
   "cell_type": "markdown",
   "id": "db9a8100",
   "metadata": {},
   "source": [
    "### Tokenize(基元化)"
   ]
  },
  {
   "cell_type": "code",
   "execution_count": 99,
   "id": "b61641d6",
   "metadata": {},
   "outputs": [
    {
     "data": {
      "text/plain": [
       "0                           [son, bitch, ate, mac, cheese]\n",
       "1        [don, pussy, grab, the, booty, love, the, boot...\n",
       "2        [bunch, rappers, boutta, flood, the, internets...\n",
       "3        [wow, thats, great, language, coming, from, co...\n",
       "4        [and, this, why, single, don, fuck, with, bitc...\n",
       "                               ...                        \n",
       "24778                                  [you, all, niggers]\n",
       "24779    [you, muthaf, lie, right, his, trash, now, min...\n",
       "24780    [young, buck, wanna, eat, dat, nigguh, like, a...\n",
       "24781        [youu, got, wild, bitches, tellin, you, lies]\n",
       "24782    [ruffled, ntac, eileen, dahlia, beautiful, col...\n",
       "Name: tweet, Length: 24783, dtype: object"
      ]
     },
     "execution_count": 99,
     "metadata": {},
     "output_type": "execute_result"
    }
   ],
   "source": [
    "tokenized = add['tweet'].apply(lambda x: x.split())\n",
    "tokenized"
   ]
  },
  {
   "cell_type": "markdown",
   "id": "1d9de59d",
   "metadata": {},
   "source": [
    "### Stemming (詞幹分析)\n"
   ]
  },
  {
   "cell_type": "code",
   "execution_count": 90,
   "id": "4a99dd62",
   "metadata": {
    "scrolled": true
   },
   "outputs": [
    {
     "data": {
      "text/html": [
       "<div>\n",
       "<style scoped>\n",
       "    .dataframe tbody tr th:only-of-type {\n",
       "        vertical-align: middle;\n",
       "    }\n",
       "\n",
       "    .dataframe tbody tr th {\n",
       "        vertical-align: top;\n",
       "    }\n",
       "\n",
       "    .dataframe thead th {\n",
       "        text-align: right;\n",
       "    }\n",
       "</style>\n",
       "<table border=\"1\" class=\"dataframe\">\n",
       "  <thead>\n",
       "    <tr style=\"text-align: right;\">\n",
       "      <th></th>\n",
       "      <th>class</th>\n",
       "      <th>tweet</th>\n",
       "      <th>id</th>\n",
       "    </tr>\n",
       "  </thead>\n",
       "  <tbody>\n",
       "    <tr>\n",
       "      <th>0</th>\n",
       "      <td>1.0</td>\n",
       "      <td>s o n   b i t c h   a t e   m a c   c h e e s</td>\n",
       "      <td>NaN</td>\n",
       "    </tr>\n",
       "    <tr>\n",
       "      <th>1</th>\n",
       "      <td>1.0</td>\n",
       "      <td>d o n   p u s s i   g r a b   t h e   b o o t ...</td>\n",
       "      <td>NaN</td>\n",
       "    </tr>\n",
       "    <tr>\n",
       "      <th>2</th>\n",
       "      <td>2.0</td>\n",
       "      <td>b u n c h   r a p p e r   b o u t t a   f l o ...</td>\n",
       "      <td>NaN</td>\n",
       "    </tr>\n",
       "    <tr>\n",
       "      <th>3</th>\n",
       "      <td>2.0</td>\n",
       "      <td>w o w   t h a t   g r e a t   l a n g u a g   ...</td>\n",
       "      <td>NaN</td>\n",
       "    </tr>\n",
       "    <tr>\n",
       "      <th>4</th>\n",
       "      <td>1.0</td>\n",
       "      <td>a n d   t h i   w h i   s i n g l   d o n   f ...</td>\n",
       "      <td>NaN</td>\n",
       "    </tr>\n",
       "    <tr>\n",
       "      <th>...</th>\n",
       "      <td>...</td>\n",
       "      <td>...</td>\n",
       "      <td>...</td>\n",
       "    </tr>\n",
       "    <tr>\n",
       "      <th>24778</th>\n",
       "      <td>NaN</td>\n",
       "      <td>y o u   a l l   n i g g e r</td>\n",
       "      <td>9909.0</td>\n",
       "    </tr>\n",
       "    <tr>\n",
       "      <th>24779</th>\n",
       "      <td>NaN</td>\n",
       "      <td>y o u   m u t h a f   l i e   r i g h t   h i ...</td>\n",
       "      <td>9910.0</td>\n",
       "    </tr>\n",
       "    <tr>\n",
       "      <th>24780</th>\n",
       "      <td>NaN</td>\n",
       "      <td>y o u n g   b u c k   w a n n a   e a t   d a ...</td>\n",
       "      <td>9911.0</td>\n",
       "    </tr>\n",
       "    <tr>\n",
       "      <th>24781</th>\n",
       "      <td>NaN</td>\n",
       "      <td>y o u u   g o t   w i l d   b i t c h   t e l ...</td>\n",
       "      <td>9912.0</td>\n",
       "    </tr>\n",
       "    <tr>\n",
       "      <th>24782</th>\n",
       "      <td>NaN</td>\n",
       "      <td>r u f f l   n t a c   e i l e e n   d a h l i ...</td>\n",
       "      <td>9913.0</td>\n",
       "    </tr>\n",
       "  </tbody>\n",
       "</table>\n",
       "<p>24783 rows × 3 columns</p>\n",
       "</div>"
      ],
      "text/plain": [
       "       class                                              tweet      id\n",
       "0        1.0      s o n   b i t c h   a t e   m a c   c h e e s     NaN\n",
       "1        1.0  d o n   p u s s i   g r a b   t h e   b o o t ...     NaN\n",
       "2        2.0  b u n c h   r a p p e r   b o u t t a   f l o ...     NaN\n",
       "3        2.0  w o w   t h a t   g r e a t   l a n g u a g   ...     NaN\n",
       "4        1.0  a n d   t h i   w h i   s i n g l   d o n   f ...     NaN\n",
       "...      ...                                                ...     ...\n",
       "24778    NaN                        y o u   a l l   n i g g e r  9909.0\n",
       "24779    NaN  y o u   m u t h a f   l i e   r i g h t   h i ...  9910.0\n",
       "24780    NaN  y o u n g   b u c k   w a n n a   e a t   d a ...  9911.0\n",
       "24781    NaN  y o u u   g o t   w i l d   b i t c h   t e l ...  9912.0\n",
       "24782    NaN  r u f f l   n t a c   e i l e e n   d a h l i ...  9913.0\n",
       "\n",
       "[24783 rows x 3 columns]"
      ]
     },
     "execution_count": 90,
     "metadata": {},
     "output_type": "execute_result"
    }
   ],
   "source": [
    "from nltk.stem.porter import PorterStemmer\n",
    "stemmer = PorterStemmer()\n",
    "\n",
    "tokenized = tokenized.apply(lambda x: [stemmer.stem(i) for i in x]) \n",
    "for i in range(len(tokenized)):\n",
    "    tokenized[i] = ' '.join(tokenized[i])\n",
    "\n",
    "add['tweet'] = tokenized\n",
    "\n",
    "add"
   ]
  },
  {
   "cell_type": "markdown",
   "id": "4a8ab93c",
   "metadata": {},
   "source": [
    "### 向量化"
   ]
  },
  {
   "cell_type": "code",
   "execution_count": 71,
   "id": "6260a7ed",
   "metadata": {},
   "outputs": [
    {
     "name": "stdout",
     "output_type": "stream",
     "text": [
      "{'son': 798, 'bitch': 81, 'ate': 41, 'chees': 141, 'don': 241, 'pussi': 678, 'grab': 367, 'booti': 97, 'love': 524, 'bunch': 118, 'rapper': 693, 'internet': 444, 'trash': 897, 'wow': 983, 'great': 370, 'come': 165, 'sure': 837, 'model': 561, 'just': 466, 'like': 501, 'account': 1, 'thi': 862, 'whi': 956, 'singl': 770, 'fuck': 337, 'attitud': 44, 'foh': 320, 'yea': 992, 'hoe': 411, 'wa': 927, 'rock': 721, 'friday': 333, 'night': 598, 'free': 330, 'real': 698, 'nicca': 590, 'time': 877, 'fag': 287, 'judg': 463, 'obama': 608, 'wonder': 972, 'veri': 923, 'follow': 322, 'hood': 418, 'god': 357, 'help': 403, 'lmaoooo': 512, 'won': 971, 'trust': 905, 'think': 864, 'flat': 317, 'wrong': 985, 'blame': 85, 'yanke': 990, 'lil': 502, 'phone': 638, 'talk': 843, 'crazi': 185, 'bout': 102, 'shit': 757, 'joke': 461, 'end': 268, 'rest': 711, 'chicken': 143, 'mother': 570, 'onli': 617, 'nigga': 593, 'wouldn': 982, 'chick': 142, 'ha': 380, 'main': 530, 'nigguh': 597, 'sinc': 768, 'selfi': 744, 'fuckin': 338, 'white': 958, 'ye': 991, 'good': 364, 'got': 365, 'ill': 437, 'make': 532, 'everybodi': 274, 'handl': 388, 'thought': 868, 'hair': 383, 'beat': 63, 'sell': 745, 'admit': 5, 'faggot': 288, 'butt': 121, 'rape': 692, 'probabl': 669, 'pop': 659, 'befor': 70, 'drink': 251, 'kind': 474, 'suck': 831, 'dat': 207, 'believ': 71, 'color': 164, 'man': 534, 'eat': 263, 'look': 518, 'punk': 676, 'movi': 572, 'guess': 376, 'cracker': 184, 'start': 815, 'control': 170, 'damn': 203, 'chink': 147, 'faith': 291, 'anoth': 26, 'charli': 137, 'crist': 190, 'rick': 716, 'scott': 737, 'race': 685, 'everi': 273, 'vote': 926, 'matter': 540, 'omg': 615, 'away': 47, 'bring': 109, 'bird': 78, 'outta': 624, 'bro': 110, 'spend': 808, 'buy': 122, 'thing': 863, 'smh': 787, 'self': 743, 'everyon': 276, 'els': 266, 'taken': 842, 'better': 74, 'ani': 23, 'ass': 39, 'peopl': 634, 'class': 155, 'tomorrow': 887, 'took': 890, 'did': 227, 'dont': 242, 'amp': 20, 'sit': 772, 'muslim': 575, 'cover': 182, 'yellow': 996, 'star': 814, 'hell': 401, 'know': 481, 'clean': 156, 'game': 344, 'left': 492, 'stop': 822, 'littl': 507, 'hot': 422, 'life': 499, 'die': 230, 'high': 408, 'caus': 132, 'neva': 586, 'gonna': 363, 'sister': 771, 'perfect': 635, 'fell': 305, 'face': 284, 'sign': 767, 'tell': 853, 'wild': 963, 'hit': 410, 'wit': 967, 'haha': 381, 'monkey': 567, 'hi': 405, 'wasn': 937, 'black': 83, 'paid': 625, 'skinni': 774, 'girl': 352, 'den': 220, 'feel': 303, 'noth': 603, 'point': 655, 'thank': 860, 'bruh': 116, 'forget': 327, 'head': 396, 'club': 160, 'lmao': 509, 'tri': 900, 'play': 651, 'hurt': 430, 'year': 994, 'old': 614, 'niggah': 594, 'drive': 252, 'seriou': 748, 'sport': 809, 'pretti': 668, 'brain': 106, 'wast': 939, 'break': 107, 'gon': 361, 'summer': 833, 'birthday': 79, 'learn': 489, 'polit': 657, 'lie': 498, 'becaus': 65, 'bad': 51, 'tonight': 889, 'finna': 313, 'problem': 670, 'care': 128, 'ju': 462, 'wake': 930, 'hear': 397, 'lebron': 491, 'respect': 710, 'ring': 719, 'gone': 362, 'let': 494, 'say': 731, 'gotta': 366, 'curv': 196, 'chanc': 134, 'yesterday': 997, 'saw': 730, 'red': 702, 'browni': 115, 'emoji': 267, 'lmfao': 513, 'cuz': 199, 'yall': 988, 'step': 819, 'tryna': 907, 'day': 211, 'kinda': 475, 'lol': 515, 'quick': 682, 'somebodi': 793, 'doe': 236, 'want': 933, 'cooki': 172, 'yeah': 993, 'watch': 941, 'gay': 347, 'porn': 660, 'boy': 104, 'pleas': 654, 'rich': 715, 'fall': 293, 'easi': 262, 'mention': 547, 'tht': 872, 'trippin': 903, 'aint': 10, 'fake': 292, 'friend': 334, 'smoke': 789, 'weed': 948, 'cheat': 139, 'wish': 966, 'hate': 394, 'water': 942, 'opinion': 620, 'cunt': 195, 'mom': 562, 'tranni': 895, 'childish': 145, 'nah': 576, 'throw': 871, 'pass': 630, 'drug': 254, 'low': 525, 'key': 469, 'miss': 558, 'reason': 701, 'clearli': 157, 'number': 606, 'funni': 340, 'tweet': 911, 'nigger': 596, 'trick': 901, 'right': 718, 'jihadi': 457, 'ugli': 917, 'prolli': 671, 'dad': 200, 'eye': 282, 'read': 696, 'mani': 536, 'juic': 464, 'throat': 870, 'worst': 980, 'republican': 709, 'teabagg': 849, 'annoy': 25, 'relationship': 705, 'count': 177, 'kany': 467, 'open': 619, 'car': 126, 'door': 243, 'wife': 961, 'wtf': 986, 'need': 584, 'set': 749, 'war': 934, 'dumb': 258, 'lmaooo': 511, 'voic': 925, 'seen': 742, 'sum': 832, 'thot': 867, 'sound': 803, 'cuh': 193, 'hand': 387, 'ghetto': 350, 'way': 943, 'spell': 807, 'cute': 198, 'dick': 226, 'turn': 909, 'tho': 866, 'fight': 308, 'sing': 769, 'lot': 522, 'ladi': 482, 'grow': 373, 'wanna': 932, 'gym': 379, 'ain': 9, 'job': 458, 'flappi': 316, 'heat': 400, 'fan': 297, 'win': 964, 'lose': 520, 'deep': 215, 'touch': 892, 'soul': 802, 'date': 208, 'men': 545, 'dope': 244, 'week': 949, 'ran': 689, 'pick': 641, 'alway': 17, 'young': 998, 'listen': 505, 'honki': 417, 'post': 661, 'dude': 257, 'especi': 272, 'person': 637, 'big': 75, 'told': 885, 'wet': 954, 'swear': 840, 'realli': 700, 'stand': 812, 'middl': 553, 'field': 307, 'dese': 222, 'onc': 616, 'brother': 112, 'fat': 300, 'doesn': 237, 'money': 566, 'anyth': 30, 'line': 503, 'dri': 250, 'knock': 480, 'town': 893, 'slut': 781, 'team': 851, 'hope': 421, 'drop': 253, 'new': 587, 'song': 799, 'bear': 62, 'tree': 899, 'piss': 647, 'outsid': 623, 'suppos': 836, 'quit': 683, 'pictur': 642, 'fli': 318, 'past': 631, 'redneck': 703, 'america': 18, 'mental': 546, 'retard': 712, 'shirt': 756, 'tattoo': 846, 'order': 621, 'use': 922, 'green': 371, 'shoot': 760, 'support': 835, 'niggaz': 595, 'citi': 152, 'walk': 931, 'shoe': 759, 'plan': 649, 'ima': 438, 'treat': 898, 'sheen': 754, 'mind': 556, 'busi': 119, 'music': 574, 'tast': 845, 'goe': 358, 'heart': 399, 'babe': 49, 'today': 882, 'far': 298, 'stuck': 828, 'nice': 591, 'hungri': 429, 'cool': 173, 'weekend': 950, 'run': 726, 'alreadi': 16, 'cold': 162, 'true': 904, 'readi': 697, 'kid': 471, 'thug': 873, 'bae': 53, 'said': 728, 'mouth': 571, 'whip': 957, 'guy': 378, 'girlfriend': 353, 'entertain': 270, 'attent': 43, 'till': 876, 'later': 485, 'unless': 921, 'hop': 420, 'gang': 345, 'lookin': 519, 'bag': 54, 'nope': 601, 'hous': 424, 'sad': 727, 'piec': 643, 'ball': 56, 'someth': 795, 'realiz': 699, 'act': 2, 'femal': 306, 'dog': 238, 'babi': 50, 'sorri': 801, 'dyke': 260, 'bodi': 92, 'elect': 265, 'democrat': 219, 'brown': 114, 'bust': 120, 'speak': 805, 'bit': 80, 'cri': 187, 'room': 723, 'went': 953, 'colleg': 163, 'leav': 490, 'slap': 775, 'blunt': 91, 'queer': 680, 'sleep': 776, 'gave': 346, 'lay': 488, 'negro': 585, 'appar': 32, 'fuc': 335, 'talkin': 844, 'twitter': 914, 'cut': 197, 'sex': 750, 'stupid': 830, 'ride': 717, 'argu': 35, 'food': 323, 'aye': 48, 'word': 974, 'giant': 351, 'wear': 945, 'gucci': 375, 'mane': 535, 'jail': 451, 'month': 568, 'text': 857, 'nation': 579, 'smash': 785, 'woman': 969, 'mean': 542, 'famili': 295, 'happen': 390, 'fish': 314, 'actual': 4, 'avi': 46, 'di': 225, 'nose': 602, 'monday': 565, 'share': 753, 'anymor': 28, 'warm': 935, 'fuzzi': 342, 'drake': 247, 'mexican': 552, 'asian': 37, 'wors': 979, 'nobodi': 600, 'planet': 650, 'disrespect': 234, 'kill': 472, 'cream': 186, 'potato': 662, 'weather': 946, 'scare': 733, 'state': 816, 'instagram': 442, 'hour': 423, 'ask': 38, 'okay': 613, 'check': 140, 'shot': 762, 'home': 414, 'broke': 111, 'season': 739, 'liber': 496, 'soon': 800, 'work': 975, 'hard': 392, 'sexi': 751, 'rememb': 706, 'blue': 90, 'joe': 459, 'shut': 765, 'wait': 929, 'til': 875, 'sick': 766, 'pay': 632, 'rais': 688, 'random': 690, 'photo': 639, 'peac': 633, 'sole': 792, 'kim': 473, 'shouldn': 763, 'pic': 640, 'stadium': 811, 'deserv': 223, 'whore': 960, 'danc': 204, 'leg': 493, 'shake': 752, 'video': 924, 'shitti': 758, 'rap': 691, 'nude': 605, 'blow': 89, 'live': 508, 'messi': 550, 'couldn': 176, 'group': 372, 'coupl': 179, 'round': 725, 'lost': 521, 'naw': 581, 'fact': 286, 'bet': 73, 'ape': 31, 'attack': 42, 'loyal': 526, 'ago': 7, 'worri': 978, 'drunk': 255, 'player': 652, 'bullshit': 117, 'second': 741, 'http': 425, 'famou': 296, 'pregnant': 665, 'chase': 138, 'fine': 310, 'dress': 249, 'super': 834, 'liter': 506, 'claim': 153, 'favorit': 301, 'agre': 8, 'bar': 58, 'straight': 824, 'window': 965, 'fun': 339, 'hey': 404, 'actin': 3, 'mayb': 541, 'human': 428, 'laugh': 486, 'bigger': 76, 'jig': 456, 'idk': 435, 'pimp': 645, 'twat': 910, 'dead': 212, 'messag': 549, 'punch': 675, 'glad': 354, 'came': 125, 'school': 735, 'becom': 66, 'save': 729, 'uncl': 918, 'tom': 886, 'child': 144, 'redskin': 704, 'threw': 869, 'parti': 629, 'morn': 569, 'ga': 343, 'differ': 231, 'clam': 154, 'playin': 653, 'isn': 449, 'dinner': 232, 'chang': 135, 'half': 385, 'lick': 497, 'nip': 599, 'didn': 228, 'fam': 294, 'news': 588, 'understand': 919, 'alon': 15, 'gettin': 349, 'folk': 321, 'kno': 479, 'meet': 544, 'momma': 564, 'chri': 150, 'cloth': 159, 'ion': 445, 'block': 87, 'halloween': 386, 'basic': 60, 'light': 500, 'beer': 69, 'crib': 188, 'slide': 777, 'huh': 427, 'pig': 644, 'sometim': 797, 'shout': 764, 'fool': 324, 'chill': 146, 'wat': 940, 'truth': 906, 'worm': 977, 'impress': 440, 'met': 551, 'bone': 94, 'retweet': 713, 'mad': 529, 'countri': 178, 'happi': 391, 'fri': 332, 'tcot': 848, 'hang': 389, 'excus': 279, 'dirti': 233, 'lucki': 527, 'welcom': 952, 'jesu': 454, 'world': 976, 'goal': 356, 'close': 158, 'jump': 465, 'final': 309, 'mama': 533, 'finger': 311, 'stay': 817, 'feed': 302, 'fucc': 336, 'excit': 278, 'send': 746, 'ugh': 916, 'trynna': 908, 'kiss': 477, 'someon': 794, 'holi': 413, 'boyfriend': 105, 'allow': 14, 'public': 673, 'togeth': 884, 'instead': 443, 'bed': 67, 'street': 825, 'karma': 468, 'coon': 174, 'tip': 878, 'stick': 821, 'eyebrow': 283, 'futur': 341, 'lame': 483, 'bye': 123, 'dawg': 210, 'tire': 879, 'deal': 213, 'level': 495, 'shi': 755, 'john': 460, 'ice': 431, 'weak': 944, 'minut': 557, 'tight': 874, 'idgaf': 434, 'ebola': 264, 'cu': 192, 'long': 517, 'best': 72, 'weird': 951, 'anyon': 29, 'cock': 161, 'dollar': 240, 'haven': 395, 'issu': 450, 'paper': 626, 'bottl': 100, 'ignor': 436, 'whatev': 955, 'trap': 896, 'thirsti': 865, 'cop': 175, 'didnt': 229, 'major': 531, 'gener': 348, 'earli': 261, 'angri': 22, 'write': 984, 'skin': 773, 'racist': 686, 'pull': 674, 'dure': 259, 'goin': 359, 'hold': 412, 'dem': 218, 'hoosier': 419, 'draft': 246, 'wash': 936, 'knew': 478, 'doubl': 245, 'oreo': 622, 'homi': 415, 'fairi': 290, 'push': 677, 'tbh': 847, 'answer': 27, 'place': 648, 'dey': 224, 'score': 736, 'tha': 858, 'nake': 577, 'spot': 810, 'ratchet': 694, 'social': 790, 'media': 543, 'soft': 791, 'surpris': 838, 'american': 19, 'imma': 439, 'doin': 239, 'heard': 398, 'expect': 280, 'twerk': 912, 'everyth': 277, 'smell': 786, 'nasti': 578, 'catch': 130, 'scari': 734, 'oomf': 618, 'fit': 315, 'moment': 563, 'question': 681, 'honestli': 416, 'fast': 299, 'mock': 560, 'appl': 33, 'caught': 131, 'iphon': 447, 'king': 476, 'duck': 256, 'ppl': 664, 'delet': 217, 'mess': 548, 'jay': 452, 'lmaoo': 510, 'box': 103, 'isi': 448, 'women': 970, 'nothin': 604, 'total': 891, 'beauti': 64, 'offic': 611, 'cat': 129, 'slit': 778, 'grandma': 369, 'chug': 151, 'sens': 747, 'hillbilli': 409, 'proud': 672, 'dream': 248, 'unfollow': 920, 'strong': 827, 'type': 915, 'hella': 402, 'offend': 609, 'cours': 180, 'hahaha': 382, 'min': 555, 'lock': 514, 'chocol': 148, 'idc': 432, 'stress': 826, 'everyday': 275, 'baker': 55, 'hairi': 384, 'rose': 724, 'glass': 355, 'report': 708, 'band': 57, 'gun': 377, 'complain': 167, 'nig': 592, 'beef': 68, 'titti': 881, 'biggest': 77, 'hick': 406, 'massag': 538, 'bomb': 93, 'base': 59, 'presid': 666, 'power': 663, 'yank': 989, 'sox': 804, 'late': 484, 'nfl': 589, 'toe': 883, 'mix': 559, 'special': 806, 'marri': 537, 'age': 6, 'android': 21, 'ipad': 446, 'xxx': 987, 'daughter': 209, 'texa': 856, 'smile': 788, 'scream': 738, 'loud': 523, 'parent': 627, 'match': 539, 'absolut': 0, 'flip': 319, 'rice': 714, 'kick': 470, 'park': 628, 'slope': 779, 'rate': 695, 'short': 761, 'definit': 216, 'stank': 813, 'forev': 326, 'confus': 169, 'celebr': 133, 'hide': 407, 'lone': 516, 'huge': 426, 'cum': 194, 'rain': 687, 'daddi': 201, 'zebra': 999, 'finish': 312, 'attract': 45, 'stori': 823, 'stfu': 820, 'book': 96, 'natur': 580, 'asshol': 40, 'slow': 780, 'swag': 839, 'cook': 171, 'stuff': 829, 'idea': 433, 'neck': 583, 'crack': 183, 'bought': 101, 'sayin': 732, 'poor': 658, 'worth': 981, 'facebook': 285, 'remind': 707, 'derek': 221, 'jeter': 455, 'roll': 722, 'baddest': 52, 'complet': 168, 'lip': 504, 'insid': 441, 'rip': 720, 'charg': 136, 'woke': 968, 'wassup': 938, 'extra': 281, 'card': 127, 'crippl': 189, 'hat': 393, 'yell': 995, 'tit': 880, 'feet': 304, 'smack': 782, 'period': 636, 'nut': 607, 'thang': 859, 'boss': 99, 'law': 487, 'aren': 34, 'brought': 113, 'fail': 289, 'anim': 24, 'beaner': 61, 'footbal': 325, 'teacher': 850, 'dark': 206, 'choke': 149, 'blood': 88, 'million': 554, 'press': 667, 'train': 894, 'trip': 902, 'sweet': 841, 'whitey': 959, 'steal': 818, 'dare': 205, 'cousin': 181, 'wack': 928, 'dnt': 235, 'enjoy': 269, 'jealou': 453, 'teeth': 852, 'breath': 108, 'comment': 166, 'entir': 271, 'death': 214, 'seat': 740, 'near': 582, 'forgot': 328, 'grown': 374, 'arm': 36, 'wifey': 962, 'boo': 95, 'bore': 98, 'wont': 973, 'themselv': 861, 'smart': 784, 'bitter': 82, 'lunch': 528, 'weav': 947, 'grade': 368, 'quot': 684, 'test': 855, 'twinki': 913, 'alex': 13, 'offici': 612, 'gold': 360, 'queen': 679, 'offens': 610, 'tongu': 888, 'crow': 191, 'freak': 329, 'term': 854, 'polic': 656, 'murder': 573, 'somethin': 796, 'aka': 12, 'small': 783, 'air': 11, 'cake': 124, 'dam': 202, 'fresh': 331, 'pink': 646, 'bless': 86, 'blah': 84}\n"
     ]
    }
   ],
   "source": [
    "#countvectorizer\n",
    "\n",
    "from sklearn.feature_extraction.text import CountVectorizer\n",
    "vectorizer = CountVectorizer(max_df=0.9, min_df=2, max_features=1000, stop_words='english')\n",
    "\n",
    "cv_dt = vectorizer.fit_transform(add['tweet'])\n",
    "\n"
   ]
  },
  {
   "cell_type": "code",
   "execution_count": 72,
   "id": "f143fd32",
   "metadata": {
    "scrolled": true
   },
   "outputs": [
    {
     "data": {
      "text/plain": [
       "array([[0, 0, 0, ..., 0, 0, 0],\n",
       "       [0, 0, 0, ..., 0, 0, 0],\n",
       "       [0, 0, 0, ..., 0, 0, 0],\n",
       "       ...,\n",
       "       [0, 0, 0, ..., 0, 1, 0],\n",
       "       [0, 0, 0, ..., 0, 0, 0],\n",
       "       [0, 0, 0, ..., 0, 0, 0]], dtype=int64)"
      ]
     },
     "execution_count": 72,
     "metadata": {},
     "output_type": "execute_result"
    }
   ],
   "source": [
    "cv_dt.toarray()"
   ]
  },
  {
   "cell_type": "code",
   "execution_count": 73,
   "id": "aad23f84",
   "metadata": {},
   "outputs": [],
   "source": [
    "#切分資料\n",
    "from sklearn.model_selection import train_test_split\n",
    "\n",
    "test = cv_dt[14869:,:]\n",
    "train = cv_dt[:14869,:]\n",
    "\n",
    "\n",
    "xtrain, xtest, ytrain, ytest = train_test_split(train, dt['class'], random_state=42, test_size=0.3)"
   ]
  },
  {
   "cell_type": "markdown",
   "id": "18a7f25f",
   "metadata": {},
   "source": [
    "### BorderlineSMOTE"
   ]
  },
  {
   "cell_type": "code",
   "execution_count": 74,
   "id": "53c31ca0",
   "metadata": {},
   "outputs": [],
   "source": [
    "#BorderlineSMOTE Resampling\n",
    "from imblearn.over_sampling import BorderlineSMOTE\n",
    "bsmote = BorderlineSMOTE()\n",
    "xtrain_bs, ytrain_bs = bsmote.fit_resample(xtrain, ytrain)\n"
   ]
  },
  {
   "cell_type": "markdown",
   "id": "33185e7f",
   "metadata": {},
   "source": [
    "## 訓練模型"
   ]
  },
  {
   "cell_type": "markdown",
   "id": "df599870",
   "metadata": {},
   "source": [
    "### 調整xgb參數"
   ]
  },
  {
   "cell_type": "code",
   "execution_count": null,
   "id": "4ad7daaa",
   "metadata": {},
   "outputs": [],
   "source": [
    "from sklearn.model_selection import GridSearchCV\n",
    "\n",
    "#參考順序 #https://www.cnblogs.com/Allen-rg/p/10563362.html\n",
    "\n",
    "#1 決定n_estimators 決策樹的數量\n",
    "params = {'n_estimators': [400, 500, 600, 700, 800]}\n",
    "xgb2 = XGBClassifier(objective='multi:softmax' )\n",
    "CV_xgb =GridSearchCV(estimator=xgb2, param_grid=params,scoring='f1')\n",
    "CV_xgb.fit(xtrain_bs, ytrain_bs)"
   ]
  },
  {
   "cell_type": "code",
   "execution_count": 30,
   "id": "0defec19",
   "metadata": {},
   "outputs": [
    {
     "data": {
      "text/plain": [
       "{'n_estimators': 400}"
      ]
     },
     "execution_count": 30,
     "metadata": {},
     "output_type": "execute_result"
    }
   ],
   "source": [
    "CV_xgb.best_params_"
   ]
  },
  {
   "cell_type": "code",
   "execution_count": null,
   "id": "934b5c8a",
   "metadata": {},
   "outputs": [],
   "source": [
    "#決定max_depth / min_child_weight\n",
    "\n",
    "params = {'max_depth': [3, 4, 5, 6, 7, 8, 9, 10], 'min_child_weight': [1, 2, 3, 4, 5, 6]}\n",
    "\n",
    "xgb2 = XGBClassifier(objective='multi:softmax',n_estimators=400)\n",
    "CV_xgb =GridSearchCV(estimator=xgb2, param_grid=params,scoring='f1')\n",
    "CV_xgb.fit(xtrain_bs, ytrain_bs)"
   ]
  },
  {
   "cell_type": "code",
   "execution_count": 37,
   "id": "8b959d83",
   "metadata": {},
   "outputs": [
    {
     "name": "stdout",
     "output_type": "stream",
     "text": [
      "              precision    recall  f1-score   support\n",
      "\n",
      "           0       0.33      0.86      0.48       235\n",
      "           1       0.98      0.93      0.95      8448\n",
      "           2       0.87      0.88      0.88      1725\n",
      "\n",
      "    accuracy                           0.92     10408\n",
      "   macro avg       0.73      0.89      0.77     10408\n",
      "weighted avg       0.95      0.92      0.93     10408\n",
      "\n",
      "              precision    recall  f1-score   support\n",
      "\n",
      "           0       0.16      0.49      0.24        83\n",
      "           1       0.95      0.91      0.93      3614\n",
      "           2       0.81      0.81      0.81       764\n",
      "\n",
      "    accuracy                           0.88      4461\n",
      "   macro avg       0.64      0.74      0.66      4461\n",
      "weighted avg       0.91      0.88      0.90      4461\n",
      "\n"
     ]
    },
    {
     "name": "stderr",
     "output_type": "stream",
     "text": [
      "C:\\Users\\gina1\\AppData\\Local\\Temp/ipykernel_10428/400321861.py:3: DeprecationWarning: `np.int` is a deprecated alias for the builtin `int`. To silence this warning, use `int` by itself. Doing this will not modify any behavior and is safe. When replacing `np.int`, you may wish to use e.g. `np.int64` or `np.int32` to specify the precision. If you wish to review your current use, check the release note link for additional information.\n",
      "Deprecated in NumPy 1.20; for more details and guidance: https://numpy.org/devdocs/release/1.20.0-notes.html#deprecations\n",
      "  prediction_int7 = y_pred5.astype(np.int)\n",
      "C:\\Users\\gina1\\AppData\\Local\\Temp/ipykernel_10428/400321861.py:6: DeprecationWarning: `np.int` is a deprecated alias for the builtin `int`. To silence this warning, use `int` by itself. Doing this will not modify any behavior and is safe. When replacing `np.int`, you may wish to use e.g. `np.int64` or `np.int32` to specify the precision. If you wish to review your current use, check the release note link for additional information.\n",
      "Deprecated in NumPy 1.20; for more details and guidance: https://numpy.org/devdocs/release/1.20.0-notes.html#deprecations\n",
      "  prediction_int = y_pred5.astype(np.int)\n"
     ]
    }
   ],
   "source": [
    "clf=CV_xgb\n",
    "y_pred5 = clf.predict(xtrain_bs) \n",
    "prediction_int7 = y_pred5.astype(np.int)\n",
    "\n",
    "y_pred5 = clf.predict(xtest) \n",
    "prediction_int = y_pred5.astype(np.int)\n",
    "print(classification_report(prediction_int7,ytrain))\n",
    "\n",
    "print(classification_report(prediction_int, ytest))"
   ]
  },
  {
   "cell_type": "code",
   "execution_count": null,
   "id": "80cb75e2",
   "metadata": {},
   "outputs": [],
   "source": [
    "params = {'max_depth': [3, 4, 5, 6, 7, 8, 9, 10], 'min_child_weight': [1, 2, 3, 4, 5, 6]}\n",
    "\n",
    "xgb2 = XGBClassifier(objective='multi:softmax',n_estimators=100)\n",
    "CV_xgb =GridSearchCV(estimator=xgb2, param_grid=params,scoring='f1')\n",
    "CV_xgb.fit(xtrain_bs, ytrain_bs)"
   ]
  },
  {
   "cell_type": "code",
   "execution_count": 34,
   "id": "346f1c46",
   "metadata": {},
   "outputs": [
    {
     "name": "stdout",
     "output_type": "stream",
     "text": [
      "              precision    recall  f1-score   support\n",
      "\n",
      "           0       0.16      0.79      0.27       124\n",
      "           1       0.97      0.91      0.94      8614\n",
      "           2       0.80      0.84      0.82      1670\n",
      "\n",
      "    accuracy                           0.89     10408\n",
      "   macro avg       0.64      0.84      0.67     10408\n",
      "weighted avg       0.93      0.89      0.91     10408\n",
      "\n",
      "              precision    recall  f1-score   support\n",
      "\n",
      "           0       0.08      0.54      0.14        39\n",
      "           1       0.96      0.90      0.93      3684\n",
      "           2       0.77      0.80      0.79       738\n",
      "\n",
      "    accuracy                           0.88      4461\n",
      "   macro avg       0.61      0.74      0.62      4461\n",
      "weighted avg       0.92      0.88      0.90      4461\n",
      "\n"
     ]
    },
    {
     "name": "stderr",
     "output_type": "stream",
     "text": [
      "C:\\Users\\gina1\\AppData\\Local\\Temp/ipykernel_10428/400321861.py:3: DeprecationWarning: `np.int` is a deprecated alias for the builtin `int`. To silence this warning, use `int` by itself. Doing this will not modify any behavior and is safe. When replacing `np.int`, you may wish to use e.g. `np.int64` or `np.int32` to specify the precision. If you wish to review your current use, check the release note link for additional information.\n",
      "Deprecated in NumPy 1.20; for more details and guidance: https://numpy.org/devdocs/release/1.20.0-notes.html#deprecations\n",
      "  prediction_int7 = y_pred5.astype(np.int)\n",
      "C:\\Users\\gina1\\AppData\\Local\\Temp/ipykernel_10428/400321861.py:6: DeprecationWarning: `np.int` is a deprecated alias for the builtin `int`. To silence this warning, use `int` by itself. Doing this will not modify any behavior and is safe. When replacing `np.int`, you may wish to use e.g. `np.int64` or `np.int32` to specify the precision. If you wish to review your current use, check the release note link for additional information.\n",
      "Deprecated in NumPy 1.20; for more details and guidance: https://numpy.org/devdocs/release/1.20.0-notes.html#deprecations\n",
      "  prediction_int = y_pred5.astype(np.int)\n"
     ]
    }
   ],
   "source": [
    "clf=CV_xgb\n",
    "y_pred5 = clf.predict(xtrain_bs) \n",
    "prediction_int7 = y_pred5.astype(np.int)\n",
    "\n",
    "y_pred5 = clf.predict(xtest) \n",
    "prediction_int = y_pred5.astype(np.int)\n",
    "print(classification_report(prediction_int7,ytrain))\n",
    "\n",
    "print(classification_report(prediction_int, ytest))"
   ]
  },
  {
   "cell_type": "code",
   "execution_count": 35,
   "id": "9904f32c",
   "metadata": {},
   "outputs": [
    {
     "data": {
      "text/plain": [
       "{'max_depth': 3, 'min_child_weight': 1}"
      ]
     },
     "execution_count": 35,
     "metadata": {},
     "output_type": "execute_result"
    }
   ],
   "source": [
    "CV_xgb.best_params_"
   ]
  },
  {
   "cell_type": "code",
   "execution_count": null,
   "id": "704f474c",
   "metadata": {},
   "outputs": [],
   "source": [
    "#gamma\n",
    "params = {'gamma':[i/10.0 for i in range(0,20)]}\n",
    "\n",
    "xgb2 = XGBClassifier(objective='multi:softmax',n_estimators=400,max_depth=3,min_child_weight=1)\n",
    "CV_xgb =GridSearchCV(estimator=xgb2, param_grid=params,scoring='f1')\n",
    "CV_xgb.fit(xtrain_bs, ytrain_bs)"
   ]
  },
  {
   "cell_type": "code",
   "execution_count": 40,
   "id": "999b3992",
   "metadata": {},
   "outputs": [
    {
     "data": {
      "text/plain": [
       "{'gamma': 0.0}"
      ]
     },
     "execution_count": 40,
     "metadata": {},
     "output_type": "execute_result"
    }
   ],
   "source": [
    "CV_xgb.best_params_"
   ]
  },
  {
   "cell_type": "code",
   "execution_count": 41,
   "id": "225c9b77",
   "metadata": {},
   "outputs": [
    {
     "name": "stdout",
     "output_type": "stream",
     "text": [
      "              precision    recall  f1-score   support\n",
      "\n",
      "           0       0.33      0.86      0.48       235\n",
      "           1       0.98      0.93      0.95      8448\n",
      "           2       0.87      0.88      0.88      1725\n",
      "\n",
      "    accuracy                           0.92     10408\n",
      "   macro avg       0.73      0.89      0.77     10408\n",
      "weighted avg       0.95      0.92      0.93     10408\n",
      "\n",
      "              precision    recall  f1-score   support\n",
      "\n",
      "           0       0.16      0.49      0.24        83\n",
      "           1       0.95      0.91      0.93      3614\n",
      "           2       0.81      0.81      0.81       764\n",
      "\n",
      "    accuracy                           0.88      4461\n",
      "   macro avg       0.64      0.74      0.66      4461\n",
      "weighted avg       0.91      0.88      0.90      4461\n",
      "\n"
     ]
    },
    {
     "name": "stderr",
     "output_type": "stream",
     "text": [
      "C:\\Users\\gina1\\AppData\\Local\\Temp/ipykernel_10428/400321861.py:3: DeprecationWarning: `np.int` is a deprecated alias for the builtin `int`. To silence this warning, use `int` by itself. Doing this will not modify any behavior and is safe. When replacing `np.int`, you may wish to use e.g. `np.int64` or `np.int32` to specify the precision. If you wish to review your current use, check the release note link for additional information.\n",
      "Deprecated in NumPy 1.20; for more details and guidance: https://numpy.org/devdocs/release/1.20.0-notes.html#deprecations\n",
      "  prediction_int7 = y_pred5.astype(np.int)\n",
      "C:\\Users\\gina1\\AppData\\Local\\Temp/ipykernel_10428/400321861.py:6: DeprecationWarning: `np.int` is a deprecated alias for the builtin `int`. To silence this warning, use `int` by itself. Doing this will not modify any behavior and is safe. When replacing `np.int`, you may wish to use e.g. `np.int64` or `np.int32` to specify the precision. If you wish to review your current use, check the release note link for additional information.\n",
      "Deprecated in NumPy 1.20; for more details and guidance: https://numpy.org/devdocs/release/1.20.0-notes.html#deprecations\n",
      "  prediction_int = y_pred5.astype(np.int)\n"
     ]
    }
   ],
   "source": [
    "clf=CV_xgb\n",
    "y_pred5 = clf.predict(xtrain_bs) \n",
    "prediction_int7 = y_pred5.astype(np.int)\n",
    "\n",
    "y_pred5 = clf.predict(xtest) \n",
    "prediction_int = y_pred5.astype(np.int)\n",
    "print(classification_report(prediction_int7,ytrain))\n",
    "\n",
    "print(classification_report(prediction_int, ytest))"
   ]
  },
  {
   "cell_type": "code",
   "execution_count": null,
   "id": "8f348955",
   "metadata": {},
   "outputs": [],
   "source": [
    "#subsample以及colsample_bytree\n",
    "\n",
    "params = {'subsample': [0.6, 0.7, 0.8, 0.9], 'colsample_bytree': [0.6, 0.7, 0.8, 0.9]}\n",
    "\n",
    "xgb2 = XGBClassifier(objective='multi:softmax',n_estimators=400,max_depth=3,min_child_weight=1,gamma=0)\n",
    "CV_xgb =GridSearchCV(estimator=xgb2, param_grid=params,scoring='f1')\n",
    "CV_xgb.fit(xtrain_bs, ytrain_bs)"
   ]
  },
  {
   "cell_type": "code",
   "execution_count": 43,
   "id": "d12e42ca",
   "metadata": {},
   "outputs": [
    {
     "name": "stdout",
     "output_type": "stream",
     "text": [
      "{'colsample_bytree': 0.6, 'subsample': 0.6}\n",
      "              precision    recall  f1-score   support\n",
      "\n",
      "           0       0.35      0.75      0.48       285\n",
      "           1       0.97      0.93      0.95      8363\n",
      "           2       0.87      0.87      0.87      1760\n",
      "\n",
      "    accuracy                           0.92     10408\n",
      "   macro avg       0.73      0.85      0.77     10408\n",
      "weighted avg       0.94      0.92      0.92     10408\n",
      "\n",
      "              precision    recall  f1-score   support\n",
      "\n",
      "           0       0.18      0.45      0.26       102\n",
      "           1       0.95      0.91      0.93      3575\n",
      "           2       0.82      0.80      0.81       784\n",
      "\n",
      "    accuracy                           0.88      4461\n",
      "   macro avg       0.65      0.72      0.67      4461\n",
      "weighted avg       0.91      0.88      0.89      4461\n",
      "\n"
     ]
    },
    {
     "name": "stderr",
     "output_type": "stream",
     "text": [
      "C:\\Users\\gina1\\AppData\\Local\\Temp/ipykernel_10428/1793020956.py:5: DeprecationWarning: `np.int` is a deprecated alias for the builtin `int`. To silence this warning, use `int` by itself. Doing this will not modify any behavior and is safe. When replacing `np.int`, you may wish to use e.g. `np.int64` or `np.int32` to specify the precision. If you wish to review your current use, check the release note link for additional information.\n",
      "Deprecated in NumPy 1.20; for more details and guidance: https://numpy.org/devdocs/release/1.20.0-notes.html#deprecations\n",
      "  prediction_int7 = y_pred5.astype(np.int)\n",
      "C:\\Users\\gina1\\AppData\\Local\\Temp/ipykernel_10428/1793020956.py:8: DeprecationWarning: `np.int` is a deprecated alias for the builtin `int`. To silence this warning, use `int` by itself. Doing this will not modify any behavior and is safe. When replacing `np.int`, you may wish to use e.g. `np.int64` or `np.int32` to specify the precision. If you wish to review your current use, check the release note link for additional information.\n",
      "Deprecated in NumPy 1.20; for more details and guidance: https://numpy.org/devdocs/release/1.20.0-notes.html#deprecations\n",
      "  prediction_int = y_pred5.astype(np.int)\n"
     ]
    }
   ],
   "source": [
    "print(CV_xgb.best_params_)\n",
    "\n",
    "clf=CV_xgb\n",
    "y_pred5 = clf.predict(xtrain_bs) \n",
    "prediction_int7 = y_pred5.astype(np.int)\n",
    "\n",
    "y_pred5 = clf.predict(xtest) \n",
    "prediction_int = y_pred5.astype(np.int)\n",
    "print(classification_report(prediction_int7,ytrain))\n",
    "\n",
    "print(classification_report(prediction_int, ytest))"
   ]
  },
  {
   "cell_type": "code",
   "execution_count": null,
   "id": "22a133bd",
   "metadata": {},
   "outputs": [],
   "source": [
    "#找最佳reg_alpha "
   ]
  },
  {
   "cell_type": "code",
   "execution_count": null,
   "id": "b0290c61",
   "metadata": {},
   "outputs": [],
   "source": [
    "params={'reg_alpha':[1e-5, 1e-2,0.05, 0.1, 1, 100]}\n",
    "\n",
    "xgb2 = XGBClassifier(objective='multi:softmax',n_estimators=400,max_depth=3,min_child_weight=1,gamma=0,\n",
    "                     colsample_bytree=0.6,subsample=0.6)\n",
    "CV_xgb =GridSearchCV(estimator=xgb2, param_grid=params,scoring='f1')\n",
    "CV_xgb.fit(xtrain_bs, ytrain_bs)\n",
    "\n"
   ]
  },
  {
   "cell_type": "code",
   "execution_count": 45,
   "id": "db4503cc",
   "metadata": {},
   "outputs": [
    {
     "name": "stdout",
     "output_type": "stream",
     "text": [
      "{'reg_alpha': 1e-05}\n",
      "              precision    recall  f1-score   support\n",
      "\n",
      "           0       0.35      0.75      0.48       285\n",
      "           1       0.97      0.93      0.95      8363\n",
      "           2       0.87      0.87      0.87      1760\n",
      "\n",
      "    accuracy                           0.92     10408\n",
      "   macro avg       0.73      0.85      0.77     10408\n",
      "weighted avg       0.94      0.92      0.92     10408\n",
      "\n",
      "              precision    recall  f1-score   support\n",
      "\n",
      "           0       0.18      0.45      0.26       102\n",
      "           1       0.95      0.91      0.93      3575\n",
      "           2       0.82      0.80      0.81       784\n",
      "\n",
      "    accuracy                           0.88      4461\n",
      "   macro avg       0.65      0.72      0.67      4461\n",
      "weighted avg       0.91      0.88      0.89      4461\n",
      "\n"
     ]
    },
    {
     "name": "stderr",
     "output_type": "stream",
     "text": [
      "C:\\Users\\gina1\\AppData\\Local\\Temp/ipykernel_10428/1793020956.py:5: DeprecationWarning: `np.int` is a deprecated alias for the builtin `int`. To silence this warning, use `int` by itself. Doing this will not modify any behavior and is safe. When replacing `np.int`, you may wish to use e.g. `np.int64` or `np.int32` to specify the precision. If you wish to review your current use, check the release note link for additional information.\n",
      "Deprecated in NumPy 1.20; for more details and guidance: https://numpy.org/devdocs/release/1.20.0-notes.html#deprecations\n",
      "  prediction_int7 = y_pred5.astype(np.int)\n",
      "C:\\Users\\gina1\\AppData\\Local\\Temp/ipykernel_10428/1793020956.py:8: DeprecationWarning: `np.int` is a deprecated alias for the builtin `int`. To silence this warning, use `int` by itself. Doing this will not modify any behavior and is safe. When replacing `np.int`, you may wish to use e.g. `np.int64` or `np.int32` to specify the precision. If you wish to review your current use, check the release note link for additional information.\n",
      "Deprecated in NumPy 1.20; for more details and guidance: https://numpy.org/devdocs/release/1.20.0-notes.html#deprecations\n",
      "  prediction_int = y_pred5.astype(np.int)\n"
     ]
    }
   ],
   "source": [
    "print(CV_xgb.best_params_)\n",
    "\n",
    "clf=CV_xgb\n",
    "y_pred5 = clf.predict(xtrain_bs) \n",
    "prediction_int7 = y_pred5.astype(np.int)\n",
    "\n",
    "y_pred5 = clf.predict(xtest) \n",
    "prediction_int = y_pred5.astype(np.int)\n",
    "print(classification_report(prediction_int7,ytrain))\n",
    "\n",
    "print(classification_report(prediction_int, ytest))"
   ]
  },
  {
   "cell_type": "code",
   "execution_count": null,
   "id": "cc8badd4",
   "metadata": {},
   "outputs": [],
   "source": [
    "#reg_lambda\n",
    "params={'reg_lambda': [0.05, 0.1, 1, 2, 3]}\n",
    "\n",
    "xgb2 = XGBClassifier(objective='multi:softmax',n_estimators=400,max_depth=3,\n",
    "                     min_child_weight=1,gamma=0,colsample_bytree=0.6,\n",
    "                     subsample=0.6,reg_alpha=0)\n",
    "CV_xgb =GridSearchCV(estimator=xgb2, param_grid=params,scoring='f1')\n",
    "CV_xgb.fit(xtrain_bs, ytrain_bs)\n",
    "    \n",
    "    \n",
    "    "
   ]
  },
  {
   "cell_type": "code",
   "execution_count": 52,
   "id": "22166e3c",
   "metadata": {},
   "outputs": [
    {
     "name": "stdout",
     "output_type": "stream",
     "text": [
      "{'reg_lambda': 0.05}\n",
      "              precision    recall  f1-score   support\n",
      "\n",
      "           0       0.38      0.79      0.51       295\n",
      "           1       0.97      0.94      0.95      8360\n",
      "           2       0.88      0.88      0.88      1753\n",
      "\n",
      "    accuracy                           0.92     10408\n",
      "   macro avg       0.74      0.87      0.78     10408\n",
      "weighted avg       0.94      0.92      0.93     10408\n",
      "\n",
      "              precision    recall  f1-score   support\n",
      "\n",
      "           0       0.17      0.42      0.25       105\n",
      "           1       0.95      0.91      0.93      3578\n",
      "           2       0.81      0.80      0.80       778\n",
      "\n",
      "    accuracy                           0.88      4461\n",
      "   macro avg       0.65      0.71      0.66      4461\n",
      "weighted avg       0.91      0.88      0.89      4461\n",
      "\n"
     ]
    },
    {
     "name": "stderr",
     "output_type": "stream",
     "text": [
      "C:\\Users\\gina1\\AppData\\Local\\Temp/ipykernel_10428/330839848.py:7: DeprecationWarning: `np.int` is a deprecated alias for the builtin `int`. To silence this warning, use `int` by itself. Doing this will not modify any behavior and is safe. When replacing `np.int`, you may wish to use e.g. `np.int64` or `np.int32` to specify the precision. If you wish to review your current use, check the release note link for additional information.\n",
      "Deprecated in NumPy 1.20; for more details and guidance: https://numpy.org/devdocs/release/1.20.0-notes.html#deprecations\n",
      "  prediction_int7 = y_pred5.astype(np.int)\n",
      "C:\\Users\\gina1\\AppData\\Local\\Temp/ipykernel_10428/330839848.py:10: DeprecationWarning: `np.int` is a deprecated alias for the builtin `int`. To silence this warning, use `int` by itself. Doing this will not modify any behavior and is safe. When replacing `np.int`, you may wish to use e.g. `np.int64` or `np.int32` to specify the precision. If you wish to review your current use, check the release note link for additional information.\n",
      "Deprecated in NumPy 1.20; for more details and guidance: https://numpy.org/devdocs/release/1.20.0-notes.html#deprecations\n",
      "  prediction_int = y_pred5.astype(np.int)\n"
     ]
    }
   ],
   "source": [
    "\n",
    "print(CV_xgb.best_params_)\n",
    "\n",
    "clf=CV_xgb\n",
    "y_pred = clf.predict(xtrain_bs) \n",
    "prediction_int7 = y_pred.astype(np.int)\n",
    "\n",
    "y_pred5 = clf.predict(xtest) \n",
    "prediction_int = y_pred5.astype(np.int)\n",
    "print(classification_report(prediction_int7,ytrain))\n",
    "\n",
    "print(classification_report(prediction_int, ytest))"
   ]
  },
  {
   "cell_type": "markdown",
   "id": "304e22bc",
   "metadata": {},
   "source": [
    "### 用上面的結果組成模型"
   ]
  },
  {
   "cell_type": "code",
   "execution_count": 82,
   "id": "f6250a6f",
   "metadata": {},
   "outputs": [
    {
     "name": "stdout",
     "output_type": "stream",
     "text": [
      "test F1:\n",
      "macro\n",
      "0.7433306257154699\n",
      "micro\n",
      "0.90091907644026\n",
      "weighted\n",
      "0.9015352233662044\n",
      "ACC:\n",
      "train:\n",
      "0.9176594926979247\n",
      "test:\n",
      "0.90091907644026\n"
     ]
    },
    {
     "name": "stderr",
     "output_type": "stream",
     "text": [
      "C:\\Users\\gina1\\AppData\\Local\\Temp/ipykernel_36140/3641300953.py:11: DeprecationWarning: `np.int` is a deprecated alias for the builtin `int`. To silence this warning, use `int` by itself. Doing this will not modify any behavior and is safe. When replacing `np.int`, you may wish to use e.g. `np.int64` or `np.int32` to specify the precision. If you wish to review your current use, check the release note link for additional information.\n",
      "Deprecated in NumPy 1.20; for more details and guidance: https://numpy.org/devdocs/release/1.20.0-notes.html#deprecations\n",
      "  prediction_int7 = y_pred.astype(np.int)\n",
      "C:\\Users\\gina1\\AppData\\Local\\Temp/ipykernel_36140/3641300953.py:30: DeprecationWarning: `np.int` is a deprecated alias for the builtin `int`. To silence this warning, use `int` by itself. Doing this will not modify any behavior and is safe. When replacing `np.int`, you may wish to use e.g. `np.int64` or `np.int32` to specify the precision. If you wish to review your current use, check the release note link for additional information.\n",
      "Deprecated in NumPy 1.20; for more details and guidance: https://numpy.org/devdocs/release/1.20.0-notes.html#deprecations\n",
      "  test_up = test_up.astype(np.int)\n"
     ]
    }
   ],
   "source": [
    "from xgboost import XGBClassifier\n",
    "#0.7194200442891172\t0.7148229372011153\t0.7175812014539165\n",
    "#0.7086497959183674\t0.756385393770311\t0.7277440350591449\n",
    "#4ed 0.724345429808287\t0.7664257269655498\t0.7411775486711921\n",
    "clf = XGBClassifier(objective='multi:softmax',n_estimators=400,max_depth=3,\n",
    "                     min_child_weight=1,gamma=0)\n",
    "\n",
    "clf.fit(xtrain_bs, ytrain_bs)\n",
    "\n",
    "y_pred = clf.predict(xtest) #\n",
    "prediction_int7 = y_pred.astype(np.int)\n",
    "\n",
    "#scoring\n",
    "from sklearn.metrics import f1_score\n",
    "print(\"test F1:\")\n",
    "print(\"macro\")\n",
    "print(f1_score(y_pred, ytest, average='macro'))  \n",
    "print(\"micro\")\n",
    "print(f1_score(y_pred, ytest, average='micro')) \n",
    "print(\"weighted\")\n",
    "print(f1_score(y_pred, ytest, average='weighted'))\n",
    "print(\"ACC:\")\n",
    "print(\"train:\")\n",
    "print(clf.score(xtrain,ytrain))\n",
    "print(\"test:\")\n",
    "print(clf.score(xtest, ytest))\n",
    "\n",
    "#上傳\n",
    "test_up = clf.predict(test)  \n",
    "test_up = test_up.astype(np.int)\n",
    "testdata['class'] = test_up\n",
    "submission = testdata[['id','class']]\n",
    "submission.to_csv('clf.csv', index=False)"
   ]
  },
  {
   "cell_type": "code",
   "execution_count": 77,
   "id": "090aad43",
   "metadata": {},
   "outputs": [
    {
     "name": "stdout",
     "output_type": "stream",
     "text": [
      "test F1:\n",
      "macro\n",
      "0.7318190839740771\n",
      "micro\n",
      "0.8971082716879623\n",
      "weighted\n",
      "0.8980348053256212\n",
      "ACC:\n",
      "train:\n",
      "0.9195810914681014\n",
      "test:\n",
      "0.8971082716879624\n"
     ]
    },
    {
     "name": "stderr",
     "output_type": "stream",
     "text": [
      "C:\\Users\\gina1\\AppData\\Local\\Temp/ipykernel_36140/2200706490.py:13: DeprecationWarning: `np.int` is a deprecated alias for the builtin `int`. To silence this warning, use `int` by itself. Doing this will not modify any behavior and is safe. When replacing `np.int`, you may wish to use e.g. `np.int64` or `np.int32` to specify the precision. If you wish to review your current use, check the release note link for additional information.\n",
      "Deprecated in NumPy 1.20; for more details and guidance: https://numpy.org/devdocs/release/1.20.0-notes.html#deprecations\n",
      "  prediction_int7 = y_pred.astype(np.int)\n",
      "C:\\Users\\gina1\\AppData\\Local\\Temp/ipykernel_36140/2200706490.py:32: DeprecationWarning: `np.int` is a deprecated alias for the builtin `int`. To silence this warning, use `int` by itself. Doing this will not modify any behavior and is safe. When replacing `np.int`, you may wish to use e.g. `np.int64` or `np.int32` to specify the precision. If you wish to review your current use, check the release note link for additional information.\n",
      "Deprecated in NumPy 1.20; for more details and guidance: https://numpy.org/devdocs/release/1.20.0-notes.html#deprecations\n",
      "  test_up = test_up.astype(np.int)\n"
     ]
    }
   ],
   "source": [
    "\n",
    "#0.7112539318861404\t0.7562897575429558\t0.7292682621488666\n",
    "from xgboost import XGBClassifier\n",
    "clf = XGBClassifier(objective='multi:softmax',n_estimators=400,max_depth=3,\n",
    "                     min_child_weight=1,gamma=0,colsample_bytree=0.6,\n",
    "                     subsample=0.6,reg_alpha=0)\n",
    "\n",
    "clf.fit(xtrain_bs, ytrain_bs)\n",
    "\n",
    "y_pred = clf.predict(xtest) #\n",
    "prediction_int7 = y_pred.astype(np.int)\n",
    "\n",
    "#scoring\n",
    "from sklearn.metrics import f1_score\n",
    "print(\"test F1:\")\n",
    "print(\"macro\")\n",
    "print(f1_score(y_pred, ytest, average='macro'))  \n",
    "print(\"micro\")\n",
    "print(f1_score(y_pred, ytest, average='micro')) \n",
    "print(\"weighted\")\n",
    "print(f1_score(y_pred, ytest, average='weighted'))\n",
    "print(\"ACC:\")\n",
    "print(\"train:\")\n",
    "print(clf.score(xtrain,ytrain))\n",
    "print(\"test:\")\n",
    "print(clf.score(xtest, ytest))\n",
    "\n",
    "#上傳\n",
    "test_up = clf.predict(test)  \n",
    "test_up = test_up.astype(np.int)\n",
    "testdata['class'] = test_up\n",
    "submission = testdata[['id','class']]\n",
    "submission.to_csv('clf.csv', index=False)"
   ]
  },
  {
   "cell_type": "markdown",
   "id": "01eafa88",
   "metadata": {},
   "source": [
    "### XGBClassifier(default)"
   ]
  },
  {
   "cell_type": "code",
   "execution_count": 78,
   "id": "75ce41a1",
   "metadata": {
    "scrolled": true
   },
   "outputs": [
    {
     "name": "stdout",
     "output_type": "stream",
     "text": [
      "test F1:\n",
      "macro\n",
      "0.7324093491132441\n",
      "micro\n",
      "0.8962116117462452\n",
      "weighted\n",
      "0.8957142964605004\n",
      "ACC:\n",
      "train:\n",
      "0.9093966179861644\n",
      "test:\n",
      "0.8962116117462452\n"
     ]
    },
    {
     "name": "stderr",
     "output_type": "stream",
     "text": [
      "C:\\Users\\gina1\\AppData\\Local\\Temp/ipykernel_36140/750347854.py:10: DeprecationWarning: `np.int` is a deprecated alias for the builtin `int`. To silence this warning, use `int` by itself. Doing this will not modify any behavior and is safe. When replacing `np.int`, you may wish to use e.g. `np.int64` or `np.int32` to specify the precision. If you wish to review your current use, check the release note link for additional information.\n",
      "Deprecated in NumPy 1.20; for more details and guidance: https://numpy.org/devdocs/release/1.20.0-notes.html#deprecations\n",
      "  prediction_int7 = y_pred.astype(np.int)\n",
      "C:\\Users\\gina1\\AppData\\Local\\Temp/ipykernel_36140/750347854.py:29: DeprecationWarning: `np.int` is a deprecated alias for the builtin `int`. To silence this warning, use `int` by itself. Doing this will not modify any behavior and is safe. When replacing `np.int`, you may wish to use e.g. `np.int64` or `np.int32` to specify the precision. If you wish to review your current use, check the release note link for additional information.\n",
      "Deprecated in NumPy 1.20; for more details and guidance: https://numpy.org/devdocs/release/1.20.0-notes.html#deprecations\n",
      "  test_up = test_up.astype(np.int)\n"
     ]
    }
   ],
   "source": [
    "#0.7042072784533857\t0.7000454509210572\t0.7025425474404543\n",
    "#3ed 0.7077591774813746\t0.754366097093015\t0.7264019453260309\n",
    "#4ed 0.7129146124014767\t0.7576773761256277\t0.7308197178911371\n",
    "clf = XGBClassifier()\n",
    "\n",
    "#訓練資料\n",
    "clf.fit(xtrain_bs, ytrain_bs)\n",
    "\n",
    "y_pred = clf.predict(xtest) #\n",
    "prediction_int7 = y_pred.astype(np.int)\n",
    "\n",
    "#scoring\n",
    "from sklearn.metrics import f1_score\n",
    "print(\"test F1:\")\n",
    "print(\"macro\")\n",
    "print(f1_score(y_pred, ytest, average='macro'))  \n",
    "print(\"micro\")\n",
    "print(f1_score(y_pred, ytest, average='micro')) \n",
    "print(\"weighted\")\n",
    "print(f1_score(y_pred, ytest, average='weighted'))\n",
    "print(\"ACC:\")\n",
    "print(\"train:\")\n",
    "print(clf.score(xtrain,ytrain))\n",
    "print(\"test:\")\n",
    "print(clf.score(xtest, ytest))\n",
    "\n",
    "#上傳\n",
    "test_up = clf.predict(test)  \n",
    "test_up = test_up.astype(np.int)\n",
    "testdata['class'] = test_up\n",
    "submission = testdata[['id','class']]\n",
    "submission.to_csv('clf.csv', index=False)\n"
   ]
  },
  {
   "cell_type": "markdown",
   "id": "8f4b580c",
   "metadata": {},
   "source": [
    "### MultinomialNB"
   ]
  },
  {
   "cell_type": "code",
   "execution_count": 85,
   "id": "a5ecf833",
   "metadata": {},
   "outputs": [
    {
     "name": "stdout",
     "output_type": "stream",
     "text": [
      "test F1:\n",
      "macro\n",
      "0.6957504170704621\n",
      "micro\n",
      "0.8601210490921318\n",
      "weighted\n",
      "0.8502846300019453\n",
      "ACC:\n",
      "train:\n",
      "0.875\n",
      "test:\n",
      "0.8601210490921318\n"
     ]
    },
    {
     "name": "stderr",
     "output_type": "stream",
     "text": [
      "C:\\Users\\gina1\\AppData\\Local\\Temp/ipykernel_36140/2361532620.py:7: DeprecationWarning: `np.int` is a deprecated alias for the builtin `int`. To silence this warning, use `int` by itself. Doing this will not modify any behavior and is safe. When replacing `np.int`, you may wish to use e.g. `np.int64` or `np.int32` to specify the precision. If you wish to review your current use, check the release note link for additional information.\n",
      "Deprecated in NumPy 1.20; for more details and guidance: https://numpy.org/devdocs/release/1.20.0-notes.html#deprecations\n",
      "  prediction_int7 = y_pred.astype(np.int)\n",
      "C:\\Users\\gina1\\AppData\\Local\\Temp/ipykernel_36140/2361532620.py:26: DeprecationWarning: `np.int` is a deprecated alias for the builtin `int`. To silence this warning, use `int` by itself. Doing this will not modify any behavior and is safe. When replacing `np.int`, you may wish to use e.g. `np.int64` or `np.int32` to specify the precision. If you wish to review your current use, check the release note link for additional information.\n",
      "Deprecated in NumPy 1.20; for more details and guidance: https://numpy.org/devdocs/release/1.20.0-notes.html#deprecations\n",
      "  test_up = test_up.astype(np.int)\n"
     ]
    }
   ],
   "source": [
    "#0.6532741312843999\t0.6799817640983692\t0.6639571844099876\n",
    "from sklearn.naive_bayes import MultinomialNB\n",
    "clf = MultinomialNB()\n",
    "clf.fit(xtrain_bs, ytrain_bs)\n",
    "\n",
    "y_pred = clf.predict(xtest) #\n",
    "prediction_int7 = y_pred.astype(np.int)\n",
    "\n",
    "#scoring\n",
    "\n",
    "from sklearn.metrics import f1_score\n",
    "print(\"test F1:\")\n",
    "print(\"macro\")\n",
    "print(f1_score(y_pred, ytest, average='macro'))  \n",
    "print(\"micro\")\n",
    "print(f1_score(y_pred, ytest, average='micro')) \n",
    "print(\"weighted\")\n",
    "print(f1_score(y_pred, ytest, average='weighted'))\n",
    "print(\"ACC:\")\n",
    "print(\"train:\")\n",
    "print(clf.score(xtrain,ytrain))\n",
    "print(\"test:\")\n",
    "print(clf.score(xtest, ytest))\n",
    "\n",
    "#上傳\n",
    "test_up = clf.predict(test)  \n",
    "test_up = test_up.astype(np.int)\n",
    "testdata['class'] = test_up\n",
    "submission = testdata[['id','class']]\n",
    "submission.to_csv('clf.csv', index=False)"
   ]
  },
  {
   "cell_type": "markdown",
   "id": "0741dfa0",
   "metadata": {},
   "source": [
    "### Grid+隨機森林"
   ]
  },
  {
   "cell_type": "code",
   "execution_count": 71,
   "id": "61ec8bbe",
   "metadata": {},
   "outputs": [
    {
     "name": "stderr",
     "output_type": "stream",
     "text": [
      "C:\\Users\\gina1\\AppData\\Local\\Temp/ipykernel_36720/731373484.py:25: DeprecationWarning: `np.int` is a deprecated alias for the builtin `int`. To silence this warning, use `int` by itself. Doing this will not modify any behavior and is safe. When replacing `np.int`, you may wish to use e.g. `np.int64` or `np.int32` to specify the precision. If you wish to review your current use, check the release note link for additional information.\n",
      "Deprecated in NumPy 1.20; for more details and guidance: https://numpy.org/devdocs/release/1.20.0-notes.html#deprecations\n",
      "  prediction_int7 = y_pred.astype(np.int)\n"
     ]
    },
    {
     "name": "stdout",
     "output_type": "stream",
     "text": [
      "test F1:\n",
      "macro\n",
      "0.7030825910309217\n",
      "micro\n",
      "0.8610177090338489\n",
      "weighted\n",
      "0.8540324276216336\n",
      "ACC:\n",
      "train:\n",
      "0.8676018447348194\n",
      "test:\n",
      "0.8610177090338489\n"
     ]
    },
    {
     "name": "stderr",
     "output_type": "stream",
     "text": [
      "C:\\Users\\gina1\\AppData\\Local\\Temp/ipykernel_36720/731373484.py:44: DeprecationWarning: `np.int` is a deprecated alias for the builtin `int`. To silence this warning, use `int` by itself. Doing this will not modify any behavior and is safe. When replacing `np.int`, you may wish to use e.g. `np.int64` or `np.int32` to specify the precision. If you wish to review your current use, check the release note link for additional information.\n",
      "Deprecated in NumPy 1.20; for more details and guidance: https://numpy.org/devdocs/release/1.20.0-notes.html#deprecations\n",
      "  test_up = test_pred.astype(np.int)\n"
     ]
    }
   ],
   "source": [
    "#\t0.6887423753139577\t0.6676510350106882\t0.68030583919265\n",
    "from sklearn.model_selection import GridSearchCV\n",
    "from sklearn.ensemble import RandomForestClassifier\n",
    "from sklearn.model_selection import ShuffleSplit\n",
    "rfc=RandomForestClassifier()\n",
    "\n",
    "single_split_cv = ShuffleSplit(n_splits=5)\n",
    "param_grid = { \n",
    "    'n_estimators': [200,300,400],\n",
    "    'max_depth' : [4,5,6,7,8],\n",
    "}\n",
    "\n",
    "clf =GridSearchCV(estimator=rfc, param_grid=param_grid, cv=single_split_cv)\n",
    "clf.fit(xtrain_bs, ytrain_bs)\n",
    "\n",
    "y_pred = clf.predict(xtest) #\n",
    "prediction_int7 = y_pred.astype(np.int)\n",
    "\n",
    "#scoring\n",
    "from sklearn.metrics import f1_score\n",
    "print(\"test F1:\")\n",
    "print(\"macro\")\n",
    "print(f1_score(y_pred, ytest, average='macro'))  \n",
    "print(\"micro\")\n",
    "print(f1_score(y_pred, ytest, average='micro')) \n",
    "print(\"weighted\")\n",
    "print(f1_score(y_pred, ytest, average='weighted'))\n",
    "print(\"ACC:\")\n",
    "print(\"train:\")\n",
    "print(clf.score(xtrain,ytrain))\n",
    "print(\"test:\")\n",
    "print(clf.score(xtest, ytest))\n",
    "\n",
    "#上傳\n",
    "test_up = clf.predict(test)  \n",
    "test_up = test_up.astype(np.int)\n",
    "testdata['class'] = test_up\n",
    "submission = testdata[['id','class']]\n",
    "submission.to_csv('clf.csv', index=False)"
   ]
  },
  {
   "cell_type": "markdown",
   "id": "f57f01f4",
   "metadata": {},
   "source": [
    "### OneVsRestClassifier+SVC"
   ]
  },
  {
   "cell_type": "code",
   "execution_count": 89,
   "id": "2e7f1f37",
   "metadata": {},
   "outputs": [
    {
     "name": "stderr",
     "output_type": "stream",
     "text": [
      "C:\\Users\\gina1\\AppData\\Local\\Temp/ipykernel_36140/4281061659.py:11: DeprecationWarning: `np.int` is a deprecated alias for the builtin `int`. To silence this warning, use `int` by itself. Doing this will not modify any behavior and is safe. When replacing `np.int`, you may wish to use e.g. `np.int64` or `np.int32` to specify the precision. If you wish to review your current use, check the release note link for additional information.\n",
      "Deprecated in NumPy 1.20; for more details and guidance: https://numpy.org/devdocs/release/1.20.0-notes.html#deprecations\n",
      "  prediction_int7 = y_pred.astype(np.int)\n"
     ]
    },
    {
     "name": "stdout",
     "output_type": "stream",
     "text": [
      "test F1:\n",
      "macro\n",
      "0.6281609709155062\n",
      "micro\n",
      "0.8471194799372338\n",
      "weighted\n",
      "0.8521093081152501\n",
      "ACC:\n",
      "train:\n",
      "0.9559953881629516\n",
      "test:\n",
      "0.8471194799372338\n"
     ]
    },
    {
     "name": "stderr",
     "output_type": "stream",
     "text": [
      "C:\\Users\\gina1\\AppData\\Local\\Temp/ipykernel_36140/4281061659.py:30: DeprecationWarning: `np.int` is a deprecated alias for the builtin `int`. To silence this warning, use `int` by itself. Doing this will not modify any behavior and is safe. When replacing `np.int`, you may wish to use e.g. `np.int64` or `np.int32` to specify the precision. If you wish to review your current use, check the release note link for additional information.\n",
      "Deprecated in NumPy 1.20; for more details and guidance: https://numpy.org/devdocs/release/1.20.0-notes.html#deprecations\n",
      "  test_up = test_up.astype(np.int)\n"
     ]
    }
   ],
   "source": [
    "# 3ed 0.7077591774813746\t0.754366097093015\t0.7264019453260309\n",
    "from sklearn.svm import SVC\n",
    "from sklearn import svm\n",
    "from sklearn.multiclass import OneVsRestClassifier\n",
    "clf = OneVsRestClassifier(svm.SVC())\n",
    "#訓練資料\n",
    "clf.fit(xtrain_bs, ytrain_bs)\n",
    "\n",
    "y_pred = clf.predict(xtest) #\n",
    "prediction_int7 = y_pred.astype(np.int)\n",
    "\n",
    "#scoring\n",
    "from sklearn.metrics import f1_score\n",
    "print(\"test F1:\")\n",
    "print(\"macro\")\n",
    "print(f1_score(y_pred, ytest, average='macro'))  \n",
    "print(\"micro\")\n",
    "print(f1_score(y_pred, ytest, average='micro')) \n",
    "print(\"weighted\")\n",
    "print(f1_score(y_pred, ytest, average='weighted'))\n",
    "print(\"ACC:\")\n",
    "print(\"train:\")\n",
    "print(clf.score(xtrain,ytrain))\n",
    "print(\"test:\")\n",
    "print(clf.score(xtest, ytest))\n",
    "\n",
    "#上傳\n",
    "test_up = clf.predict(test)  \n",
    "test_up = test_up.astype(np.int)\n",
    "testdata['class'] = test_up\n",
    "submission = testdata[['id','class']]\n",
    "submission.to_csv('clf.csv', index=False)"
   ]
  },
  {
   "cell_type": "markdown",
   "id": "b78577d6",
   "metadata": {},
   "source": [
    "### MultinomialNB\n",
    "\n"
   ]
  },
  {
   "cell_type": "code",
   "execution_count": 66,
   "id": "00a129b2",
   "metadata": {},
   "outputs": [
    {
     "name": "stdout",
     "output_type": "stream",
     "text": [
      "test F1:\n",
      "macro\n",
      "0.6950827901065636\n",
      "micro\n",
      "0.8610177090338489\n",
      "weighted\n",
      "0.8514427511868324\n",
      "ACC:\n",
      "train:\n",
      "0.8745196003074558\n",
      "test:\n",
      "0.8610177090338489\n"
     ]
    },
    {
     "name": "stderr",
     "output_type": "stream",
     "text": [
      "C:\\Users\\gina1\\AppData\\Local\\Temp/ipykernel_36720/2301936372.py:8: DeprecationWarning: `np.int` is a deprecated alias for the builtin `int`. To silence this warning, use `int` by itself. Doing this will not modify any behavior and is safe. When replacing `np.int`, you may wish to use e.g. `np.int64` or `np.int32` to specify the precision. If you wish to review your current use, check the release note link for additional information.\n",
      "Deprecated in NumPy 1.20; for more details and guidance: https://numpy.org/devdocs/release/1.20.0-notes.html#deprecations\n",
      "  prediction_int7 = y_pred.astype(np.int)\n",
      "C:\\Users\\gina1\\AppData\\Local\\Temp/ipykernel_36720/2301936372.py:27: DeprecationWarning: `np.int` is a deprecated alias for the builtin `int`. To silence this warning, use `int` by itself. Doing this will not modify any behavior and is safe. When replacing `np.int`, you may wish to use e.g. `np.int64` or `np.int32` to specify the precision. If you wish to review your current use, check the release note link for additional information.\n",
      "Deprecated in NumPy 1.20; for more details and guidance: https://numpy.org/devdocs/release/1.20.0-notes.html#deprecations\n",
      "  test_up = test_pred.astype(np.int)\n"
     ]
    }
   ],
   "source": [
    "# 3ed 0.6763539641214505\t0.7134804641397748\t0.6912045641287803\n",
    "from sklearn.naive_bayes import MultinomialNB\n",
    "clf = MultinomialNB()\n",
    "\n",
    "clf.fit(xtrain_bs, ytrain_bs)\n",
    "\n",
    "y_pred = clf.predict(xtest) #\n",
    "prediction_int7 = y_pred.astype(np.int)\n",
    "\n",
    "#scoring\n",
    "from sklearn.metrics import f1_score\n",
    "print(\"test F1:\")\n",
    "print(\"macro\")\n",
    "print(f1_score(y_pred, ytest, average='macro'))  \n",
    "print(\"micro\")\n",
    "print(f1_score(y_pred, ytest, average='micro')) \n",
    "print(\"weighted\")\n",
    "print(f1_score(y_pred, ytest, average='weighted'))\n",
    "print(\"ACC:\")\n",
    "print(\"train:\")\n",
    "print(clf.score(xtrain,ytrain))\n",
    "print(\"test:\")\n",
    "print(clf.score(xtest, ytest))\n",
    "\n",
    "#上傳\n",
    "test_up = clf.predict(test)  \n",
    "test_up = test_up.astype(np.int)\n",
    "testdata['class'] = test_up\n",
    "submission = testdata[['id','class']]\n",
    "submission.to_csv('clf.csv', index=False)"
   ]
  },
  {
   "cell_type": "markdown",
   "id": "ed82d984",
   "metadata": {},
   "source": [
    "### LogisticRegression"
   ]
  },
  {
   "cell_type": "code",
   "execution_count": 88,
   "id": "e30ea64c",
   "metadata": {},
   "outputs": [
    {
     "name": "stdout",
     "output_type": "stream",
     "text": [
      "test F1:\n",
      "macro\n",
      "0.7045357653525094\n",
      "micro\n",
      "0.8661735036987223\n",
      "weighted\n",
      "0.8575525095867511\n",
      "ACC:\n",
      "train:\n",
      "0.8954650269023828\n",
      "test:\n",
      "0.8661735036987223\n"
     ]
    },
    {
     "name": "stderr",
     "output_type": "stream",
     "text": [
      "C:\\Users\\gina1\\AppData\\Local\\Temp/ipykernel_36140/1606974738.py:10: DeprecationWarning: `np.int` is a deprecated alias for the builtin `int`. To silence this warning, use `int` by itself. Doing this will not modify any behavior and is safe. When replacing `np.int`, you may wish to use e.g. `np.int64` or `np.int32` to specify the precision. If you wish to review your current use, check the release note link for additional information.\n",
      "Deprecated in NumPy 1.20; for more details and guidance: https://numpy.org/devdocs/release/1.20.0-notes.html#deprecations\n",
      "  prediction_int7 = y_pred.astype(np.int)\n",
      "C:\\Users\\gina1\\AppData\\Local\\Temp/ipykernel_36140/1606974738.py:29: DeprecationWarning: `np.int` is a deprecated alias for the builtin `int`. To silence this warning, use `int` by itself. Doing this will not modify any behavior and is safe. When replacing `np.int`, you may wish to use e.g. `np.int64` or `np.int32` to specify the precision. If you wish to review your current use, check the release note link for additional information.\n",
      "Deprecated in NumPy 1.20; for more details and guidance: https://numpy.org/devdocs/release/1.20.0-notes.html#deprecations\n",
      "  test_up = test_up.astype(np.int)\n"
     ]
    }
   ],
   "source": [
    "#4ed 0.6869046721218749\t0.7263246350130957\t0.7026726572783633\n",
    "from sklearn.linear_model import LogisticRegression\n",
    "from sklearn.multiclass import OneVsRestClassifier\n",
    "#訓練資料\n",
    "clf = LogisticRegression()\n",
    "clf=OneVsRestClassifier(clf,n_jobs=2)\n",
    "clf.fit(xtrain_bs, ytrain_bs)\n",
    "\n",
    "y_pred = clf.predict(xtest) #\n",
    "prediction_int7 = y_pred.astype(np.int)\n",
    "\n",
    "#scoring\n",
    "from sklearn.metrics import f1_score\n",
    "print(\"test F1:\")\n",
    "print(\"macro\")\n",
    "print(f1_score(y_pred, ytest, average='macro'))  \n",
    "print(\"micro\")\n",
    "print(f1_score(y_pred, ytest, average='micro')) \n",
    "print(\"weighted\")\n",
    "print(f1_score(y_pred, ytest, average='weighted'))\n",
    "print(\"ACC:\")\n",
    "print(\"train:\")\n",
    "print(clf.score(xtrain,ytrain))\n",
    "print(\"test:\")\n",
    "print(clf.score(xtest, ytest))\n",
    "\n",
    "#上傳\n",
    "test_up = clf.predict(test)  \n",
    "test_up = test_up.astype(np.int)\n",
    "testdata['class'] = test_up\n",
    "submission = testdata[['id','class']]\n",
    "submission.to_csv('clf.csv', index=False)"
   ]
  }
 ],
 "metadata": {
  "kernelspec": {
   "display_name": "Python 3 (ipykernel)",
   "language": "python",
   "name": "python3"
  },
  "language_info": {
   "codemirror_mode": {
    "name": "ipython",
    "version": 3
   },
   "file_extension": ".py",
   "mimetype": "text/x-python",
   "name": "python",
   "nbconvert_exporter": "python",
   "pygments_lexer": "ipython3",
   "version": "3.9.7"
  }
 },
 "nbformat": 4,
 "nbformat_minor": 5
}
